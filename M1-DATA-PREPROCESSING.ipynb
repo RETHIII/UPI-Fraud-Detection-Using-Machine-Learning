{
 "cells": [
  {
   "cell_type": "markdown",
   "id": "13a6ed68",
   "metadata": {},
   "source": [
    "# Module 1: Data validation and pre-processing technique"
   ]
  },
  {
   "cell_type": "code",
   "execution_count": 1,
   "id": "e8fd5e24",
   "metadata": {},
   "outputs": [],
   "source": [
    "#import library packages\n",
    "import numpy as n\n",
    "import pandas as p"
   ]
  },
  {
   "cell_type": "code",
   "execution_count": 2,
   "id": "5fc00742",
   "metadata": {},
   "outputs": [],
   "source": [
    "#Load given dataset\n",
    "data = p.read_csv('UPI_FRAUD.csv')"
   ]
  },
  {
   "cell_type": "code",
   "execution_count": 3,
   "id": "e899a692",
   "metadata": {},
   "outputs": [],
   "source": [
    "import warnings\n",
    "warnings.filterwarnings('ignore')"
   ]
  },
  {
   "cell_type": "raw",
   "id": "e7ca77e0",
   "metadata": {},
   "source": [
    "Before drop the given dataset"
   ]
  },
  {
   "cell_type": "code",
   "execution_count": 4,
   "id": "b7e37266",
   "metadata": {},
   "outputs": [
    {
     "data": {
      "text/html": [
       "<div>\n",
       "<style scoped>\n",
       "    .dataframe tbody tr th:only-of-type {\n",
       "        vertical-align: middle;\n",
       "    }\n",
       "\n",
       "    .dataframe tbody tr th {\n",
       "        vertical-align: top;\n",
       "    }\n",
       "\n",
       "    .dataframe thead th {\n",
       "        text-align: right;\n",
       "    }\n",
       "</style>\n",
       "<table border=\"1\" class=\"dataframe\">\n",
       "  <thead>\n",
       "    <tr style=\"text-align: right;\">\n",
       "      <th></th>\n",
       "      <th>Merchant_id</th>\n",
       "      <th>TransactionDate</th>\n",
       "      <th>AverageAmountTransactionDay</th>\n",
       "      <th>TransactionAmount</th>\n",
       "      <th>Is_declined</th>\n",
       "      <th>TotalNumberOfDeclinesDay</th>\n",
       "      <th>isForeignTransaction</th>\n",
       "      <th>isHighRiskCountry</th>\n",
       "      <th>DailyChargebackAvgAmt</th>\n",
       "      <th>Six_MonthAvgChbkAmt</th>\n",
       "      <th>Six_MonthChbkFreq</th>\n",
       "      <th>isFradulent</th>\n",
       "    </tr>\n",
       "  </thead>\n",
       "  <tbody>\n",
       "    <tr>\n",
       "      <th>0</th>\n",
       "      <td>3160040998</td>\n",
       "      <td>NaN</td>\n",
       "      <td>100.0</td>\n",
       "      <td>3000.0</td>\n",
       "      <td>N</td>\n",
       "      <td>5</td>\n",
       "      <td>Y</td>\n",
       "      <td>Y</td>\n",
       "      <td>0</td>\n",
       "      <td>0.0</td>\n",
       "      <td>0</td>\n",
       "      <td>Y</td>\n",
       "    </tr>\n",
       "    <tr>\n",
       "      <th>1</th>\n",
       "      <td>3160040998</td>\n",
       "      <td>NaN</td>\n",
       "      <td>100.0</td>\n",
       "      <td>4300.0</td>\n",
       "      <td>N</td>\n",
       "      <td>5</td>\n",
       "      <td>Y</td>\n",
       "      <td>Y</td>\n",
       "      <td>0</td>\n",
       "      <td>0.0</td>\n",
       "      <td>0</td>\n",
       "      <td>Y</td>\n",
       "    </tr>\n",
       "    <tr>\n",
       "      <th>2</th>\n",
       "      <td>3160041896</td>\n",
       "      <td>NaN</td>\n",
       "      <td>185.5</td>\n",
       "      <td>4823.0</td>\n",
       "      <td>Y</td>\n",
       "      <td>5</td>\n",
       "      <td>N</td>\n",
       "      <td>N</td>\n",
       "      <td>0</td>\n",
       "      <td>0.0</td>\n",
       "      <td>0</td>\n",
       "      <td>Y</td>\n",
       "    </tr>\n",
       "    <tr>\n",
       "      <th>3</th>\n",
       "      <td>3160141996</td>\n",
       "      <td>NaN</td>\n",
       "      <td>185.5</td>\n",
       "      <td>5008.5</td>\n",
       "      <td>Y</td>\n",
       "      <td>8</td>\n",
       "      <td>N</td>\n",
       "      <td>N</td>\n",
       "      <td>0</td>\n",
       "      <td>0.0</td>\n",
       "      <td>0</td>\n",
       "      <td>Y</td>\n",
       "    </tr>\n",
       "    <tr>\n",
       "      <th>4</th>\n",
       "      <td>3160241992</td>\n",
       "      <td>NaN</td>\n",
       "      <td>500.0</td>\n",
       "      <td>26000.0</td>\n",
       "      <td>N</td>\n",
       "      <td>0</td>\n",
       "      <td>Y</td>\n",
       "      <td>Y</td>\n",
       "      <td>800</td>\n",
       "      <td>677.2</td>\n",
       "      <td>6</td>\n",
       "      <td>Y</td>\n",
       "    </tr>\n",
       "  </tbody>\n",
       "</table>\n",
       "</div>"
      ],
      "text/plain": [
       "   Merchant_id  TransactionDate  AverageAmountTransactionDay  \\\n",
       "0   3160040998              NaN                        100.0   \n",
       "1   3160040998              NaN                        100.0   \n",
       "2   3160041896              NaN                        185.5   \n",
       "3   3160141996              NaN                        185.5   \n",
       "4   3160241992              NaN                        500.0   \n",
       "\n",
       "   TransactionAmount Is_declined  TotalNumberOfDeclinesDay  \\\n",
       "0             3000.0           N                         5   \n",
       "1             4300.0           N                         5   \n",
       "2             4823.0           Y                         5   \n",
       "3             5008.5           Y                         8   \n",
       "4            26000.0           N                         0   \n",
       "\n",
       "  isForeignTransaction isHighRiskCountry  DailyChargebackAvgAmt  \\\n",
       "0                    Y                 Y                      0   \n",
       "1                    Y                 Y                      0   \n",
       "2                    N                 N                      0   \n",
       "3                    N                 N                      0   \n",
       "4                    Y                 Y                    800   \n",
       "\n",
       "   Six_MonthAvgChbkAmt  Six_MonthChbkFreq isFradulent  \n",
       "0                  0.0                  0           Y  \n",
       "1                  0.0                  0           Y  \n",
       "2                  0.0                  0           Y  \n",
       "3                  0.0                  0           Y  \n",
       "4                677.2                  6           Y  "
      ]
     },
     "execution_count": 4,
     "metadata": {},
     "output_type": "execute_result"
    }
   ],
   "source": [
    "data.head()"
   ]
  },
  {
   "cell_type": "code",
   "execution_count": 5,
   "id": "47732298",
   "metadata": {},
   "outputs": [
    {
     "data": {
      "text/plain": [
       "(3075, 12)"
      ]
     },
     "execution_count": 5,
     "metadata": {},
     "output_type": "execute_result"
    }
   ],
   "source": [
    "#shape\n",
    "data.shape"
   ]
  },
  {
   "cell_type": "code",
   "execution_count": 6,
   "id": "de7fd61d",
   "metadata": {},
   "outputs": [
    {
     "data": {
      "text/plain": [
       "Index(['Merchant_id', 'TransactionDate', 'AverageAmountTransactionDay',\n",
       "       'TransactionAmount', 'Is_declined', 'TotalNumberOfDeclinesDay',\n",
       "       'isForeignTransaction', 'isHighRiskCountry', 'DailyChargebackAvgAmt',\n",
       "       'Six_MonthAvgChbkAmt', 'Six_MonthChbkFreq', 'isFradulent'],\n",
       "      dtype='object')"
      ]
     },
     "execution_count": 6,
     "metadata": {},
     "output_type": "execute_result"
    }
   ],
   "source": [
    "data.columns"
   ]
  },
  {
   "cell_type": "raw",
   "id": "289bca60",
   "metadata": {},
   "source": [
    "After drop the given dataset"
   ]
  },
  {
   "cell_type": "code",
   "execution_count": 7,
   "id": "239ff815",
   "metadata": {},
   "outputs": [],
   "source": [
    "del data['TransactionDate']\n",
    "del data['Merchant_id']"
   ]
  },
  {
   "cell_type": "code",
   "execution_count": 8,
   "id": "69fbfa4e",
   "metadata": {},
   "outputs": [],
   "source": [
    "df=data.dropna()"
   ]
  },
  {
   "cell_type": "code",
   "execution_count": 9,
   "id": "8058dc64",
   "metadata": {},
   "outputs": [
    {
     "data": {
      "text/plain": [
       "(3075, 10)"
      ]
     },
     "execution_count": 9,
     "metadata": {},
     "output_type": "execute_result"
    }
   ],
   "source": [
    "df.shape"
   ]
  },
  {
   "cell_type": "code",
   "execution_count": 10,
   "id": "ea6b45cc",
   "metadata": {},
   "outputs": [
    {
     "data": {
      "text/html": [
       "<div>\n",
       "<style scoped>\n",
       "    .dataframe tbody tr th:only-of-type {\n",
       "        vertical-align: middle;\n",
       "    }\n",
       "\n",
       "    .dataframe tbody tr th {\n",
       "        vertical-align: top;\n",
       "    }\n",
       "\n",
       "    .dataframe thead th {\n",
       "        text-align: right;\n",
       "    }\n",
       "</style>\n",
       "<table border=\"1\" class=\"dataframe\">\n",
       "  <thead>\n",
       "    <tr style=\"text-align: right;\">\n",
       "      <th></th>\n",
       "      <th>AverageAmountTransactionDay</th>\n",
       "      <th>TransactionAmount</th>\n",
       "      <th>TotalNumberOfDeclinesDay</th>\n",
       "      <th>DailyChargebackAvgAmt</th>\n",
       "      <th>Six_MonthAvgChbkAmt</th>\n",
       "      <th>Six_MonthChbkFreq</th>\n",
       "    </tr>\n",
       "  </thead>\n",
       "  <tbody>\n",
       "    <tr>\n",
       "      <th>count</th>\n",
       "      <td>3075.000000</td>\n",
       "      <td>3075.000000</td>\n",
       "      <td>3075.000000</td>\n",
       "      <td>3075.000000</td>\n",
       "      <td>3075.000000</td>\n",
       "      <td>3075.000000</td>\n",
       "    </tr>\n",
       "    <tr>\n",
       "      <th>mean</th>\n",
       "      <td>515.026556</td>\n",
       "      <td>9876.399210</td>\n",
       "      <td>0.957398</td>\n",
       "      <td>55.737561</td>\n",
       "      <td>40.022407</td>\n",
       "      <td>0.391870</td>\n",
       "    </tr>\n",
       "    <tr>\n",
       "      <th>std</th>\n",
       "      <td>291.906978</td>\n",
       "      <td>10135.331016</td>\n",
       "      <td>2.192391</td>\n",
       "      <td>206.634779</td>\n",
       "      <td>155.968840</td>\n",
       "      <td>1.548479</td>\n",
       "    </tr>\n",
       "    <tr>\n",
       "      <th>min</th>\n",
       "      <td>4.011527</td>\n",
       "      <td>0.000000</td>\n",
       "      <td>0.000000</td>\n",
       "      <td>0.000000</td>\n",
       "      <td>0.000000</td>\n",
       "      <td>0.000000</td>\n",
       "    </tr>\n",
       "    <tr>\n",
       "      <th>25%</th>\n",
       "      <td>269.788047</td>\n",
       "      <td>2408.781147</td>\n",
       "      <td>0.000000</td>\n",
       "      <td>0.000000</td>\n",
       "      <td>0.000000</td>\n",
       "      <td>0.000000</td>\n",
       "    </tr>\n",
       "    <tr>\n",
       "      <th>50%</th>\n",
       "      <td>502.549575</td>\n",
       "      <td>6698.891856</td>\n",
       "      <td>0.000000</td>\n",
       "      <td>0.000000</td>\n",
       "      <td>0.000000</td>\n",
       "      <td>0.000000</td>\n",
       "    </tr>\n",
       "    <tr>\n",
       "      <th>75%</th>\n",
       "      <td>765.272803</td>\n",
       "      <td>14422.568935</td>\n",
       "      <td>0.000000</td>\n",
       "      <td>0.000000</td>\n",
       "      <td>0.000000</td>\n",
       "      <td>0.000000</td>\n",
       "    </tr>\n",
       "    <tr>\n",
       "      <th>max</th>\n",
       "      <td>2000.000000</td>\n",
       "      <td>108000.000000</td>\n",
       "      <td>20.000000</td>\n",
       "      <td>998.000000</td>\n",
       "      <td>998.000000</td>\n",
       "      <td>9.000000</td>\n",
       "    </tr>\n",
       "  </tbody>\n",
       "</table>\n",
       "</div>"
      ],
      "text/plain": [
       "       AverageAmountTransactionDay  TransactionAmount  \\\n",
       "count                  3075.000000        3075.000000   \n",
       "mean                    515.026556        9876.399210   \n",
       "std                     291.906978       10135.331016   \n",
       "min                       4.011527           0.000000   \n",
       "25%                     269.788047        2408.781147   \n",
       "50%                     502.549575        6698.891856   \n",
       "75%                     765.272803       14422.568935   \n",
       "max                    2000.000000      108000.000000   \n",
       "\n",
       "       TotalNumberOfDeclinesDay  DailyChargebackAvgAmt  Six_MonthAvgChbkAmt  \\\n",
       "count               3075.000000            3075.000000          3075.000000   \n",
       "mean                   0.957398              55.737561            40.022407   \n",
       "std                    2.192391             206.634779           155.968840   \n",
       "min                    0.000000               0.000000             0.000000   \n",
       "25%                    0.000000               0.000000             0.000000   \n",
       "50%                    0.000000               0.000000             0.000000   \n",
       "75%                    0.000000               0.000000             0.000000   \n",
       "max                   20.000000             998.000000           998.000000   \n",
       "\n",
       "       Six_MonthChbkFreq  \n",
       "count        3075.000000  \n",
       "mean            0.391870  \n",
       "std             1.548479  \n",
       "min             0.000000  \n",
       "25%             0.000000  \n",
       "50%             0.000000  \n",
       "75%             0.000000  \n",
       "max             9.000000  "
      ]
     },
     "execution_count": 10,
     "metadata": {},
     "output_type": "execute_result"
    }
   ],
   "source": [
    "df.describe()"
   ]
  },
  {
   "cell_type": "code",
   "execution_count": null,
   "id": "77f48368",
   "metadata": {},
   "outputs": [],
   "source": []
  },
  {
   "cell_type": "code",
   "execution_count": 11,
   "id": "970389ae",
   "metadata": {},
   "outputs": [
    {
     "data": {
      "text/plain": [
       "Index(['AverageAmountTransactionDay', 'TransactionAmount', 'Is_declined',\n",
       "       'TotalNumberOfDeclinesDay', 'isForeignTransaction', 'isHighRiskCountry',\n",
       "       'DailyChargebackAvgAmt', 'Six_MonthAvgChbkAmt', 'Six_MonthChbkFreq',\n",
       "       'isFradulent'],\n",
       "      dtype='object')"
      ]
     },
     "execution_count": 11,
     "metadata": {},
     "output_type": "execute_result"
    }
   ],
   "source": [
    "df.columns"
   ]
  },
  {
   "cell_type": "code",
   "execution_count": 12,
   "id": "a519dc7a",
   "metadata": {},
   "outputs": [
    {
     "name": "stdout",
     "output_type": "stream",
     "text": [
      "<class 'pandas.core.frame.DataFrame'>\n",
      "RangeIndex: 3075 entries, 0 to 3074\n",
      "Data columns (total 10 columns):\n",
      " #   Column                       Non-Null Count  Dtype  \n",
      "---  ------                       --------------  -----  \n",
      " 0   AverageAmountTransactionDay  3075 non-null   float64\n",
      " 1   TransactionAmount            3075 non-null   float64\n",
      " 2   Is_declined                  3075 non-null   object \n",
      " 3   TotalNumberOfDeclinesDay     3075 non-null   int64  \n",
      " 4   isForeignTransaction         3075 non-null   object \n",
      " 5   isHighRiskCountry            3075 non-null   object \n",
      " 6   DailyChargebackAvgAmt        3075 non-null   int64  \n",
      " 7   Six_MonthAvgChbkAmt          3075 non-null   float64\n",
      " 8   Six_MonthChbkFreq            3075 non-null   int64  \n",
      " 9   isFradulent                  3075 non-null   object \n",
      "dtypes: float64(3), int64(3), object(4)\n",
      "memory usage: 240.4+ KB\n"
     ]
    }
   ],
   "source": [
    "df.info()"
   ]
  },
  {
   "cell_type": "raw",
   "id": "cca4c2cd",
   "metadata": {},
   "source": [
    "Checking duplicate value from dataframe"
   ]
  },
  {
   "cell_type": "code",
   "execution_count": 13,
   "id": "749128e6",
   "metadata": {},
   "outputs": [
    {
     "data": {
      "text/plain": [
       "0       False\n",
       "1       False\n",
       "2       False\n",
       "3       False\n",
       "4       False\n",
       "        ...  \n",
       "3070    False\n",
       "3071    False\n",
       "3072    False\n",
       "3073    False\n",
       "3074    False\n",
       "Length: 3075, dtype: bool"
      ]
     },
     "execution_count": 13,
     "metadata": {},
     "output_type": "execute_result"
    }
   ],
   "source": [
    "#Checking for duplicate data\n",
    "df.duplicated()"
   ]
  },
  {
   "cell_type": "code",
   "execution_count": 14,
   "id": "adadc08c",
   "metadata": {},
   "outputs": [
    {
     "data": {
      "text/plain": [
       "1"
      ]
     },
     "execution_count": 14,
     "metadata": {},
     "output_type": "execute_result"
    }
   ],
   "source": [
    "#find sum of duplicate data\n",
    "sum(df.duplicated())"
   ]
  },
  {
   "cell_type": "code",
   "execution_count": 15,
   "id": "b13bae29",
   "metadata": {},
   "outputs": [
    {
     "data": {
      "text/plain": [
       "AverageAmountTransactionDay    0\n",
       "TransactionAmount              0\n",
       "Is_declined                    0\n",
       "TotalNumberOfDeclinesDay       0\n",
       "isForeignTransaction           0\n",
       "isHighRiskCountry              0\n",
       "DailyChargebackAvgAmt          0\n",
       "Six_MonthAvgChbkAmt            0\n",
       "Six_MonthChbkFreq              0\n",
       "isFradulent                    0\n",
       "dtype: int64"
      ]
     },
     "execution_count": 15,
     "metadata": {},
     "output_type": "execute_result"
    }
   ],
   "source": [
    "#Checking sum of missing values\n",
    "df.isnull().sum()"
   ]
  },
  {
   "cell_type": "code",
   "execution_count": 16,
   "id": "311b20b0",
   "metadata": {},
   "outputs": [
    {
     "data": {
      "text/plain": [
       "array(['Y', 'N'], dtype=object)"
      ]
     },
     "execution_count": 16,
     "metadata": {},
     "output_type": "execute_result"
    }
   ],
   "source": [
    "df.isForeignTransaction.unique()"
   ]
  },
  {
   "cell_type": "code",
   "execution_count": 17,
   "id": "4ab20702",
   "metadata": {},
   "outputs": [
    {
     "data": {
      "text/plain": [
       "array(['Y', 'N'], dtype=object)"
      ]
     },
     "execution_count": 17,
     "metadata": {},
     "output_type": "execute_result"
    }
   ],
   "source": [
    "df.isFradulent.unique()"
   ]
  },
  {
   "cell_type": "code",
   "execution_count": 18,
   "id": "c2e95687",
   "metadata": {},
   "outputs": [
    {
     "data": {
      "text/plain": [
       "array(['N', 'Y'], dtype=object)"
      ]
     },
     "execution_count": 18,
     "metadata": {},
     "output_type": "execute_result"
    }
   ],
   "source": [
    "df.Is_declined.unique()"
   ]
  },
  {
   "cell_type": "code",
   "execution_count": 19,
   "id": "4dd6b57e",
   "metadata": {},
   "outputs": [
    {
     "data": {
      "text/plain": [
       "array([ 3000.,  4300.,  4823., ..., 20800., 12000., 36000.])"
      ]
     },
     "execution_count": 19,
     "metadata": {},
     "output_type": "execute_result"
    }
   ],
   "source": [
    "df.TransactionAmount.unique()"
   ]
  },
  {
   "cell_type": "code",
   "execution_count": 20,
   "id": "db8027d8",
   "metadata": {},
   "outputs": [
    {
     "data": {
      "text/plain": [
       "array(['Y', 'N'], dtype=object)"
      ]
     },
     "execution_count": 20,
     "metadata": {},
     "output_type": "execute_result"
    }
   ],
   "source": [
    "df.isHighRiskCountry.unique()"
   ]
  },
  {
   "cell_type": "code",
   "execution_count": 21,
   "id": "952579cb",
   "metadata": {},
   "outputs": [
    {
     "data": {
      "text/plain": [
       "array([  0, 800, 900, 721, 865, 816, 986, 953, 896, 701, 877, 454, 973,\n",
       "       970, 993, 967, 923, 589, 888, 618, 381, 964, 995, 959, 593, 931,\n",
       "       739, 475, 982, 991, 707, 916, 577, 667, 695, 735, 835, 901, 955,\n",
       "       403, 996, 954, 917, 502, 894, 833, 377, 614, 786, 939, 487, 802,\n",
       "       183, 942, 985, 527, 788, 801, 878, 992, 971, 961, 876, 822, 856,\n",
       "       572, 789, 795, 987, 557, 398, 943, 884, 938, 780, 940, 777, 941,\n",
       "       841, 673, 956, 754, 530, 918, 730, 712, 946, 435, 914, 937, 260,\n",
       "       714, 998, 718, 873, 263, 853, 859, 825, 891, 657, 948, 520, 759,\n",
       "       573, 640, 957, 869, 819, 649, 862, 683, 601, 604, 889, 867, 887,\n",
       "       300, 518, 711, 567, 848, 960, 978, 990, 857, 585, 806, 290, 928,\n",
       "       830, 684, 274], dtype=int64)"
      ]
     },
     "execution_count": 21,
     "metadata": {},
     "output_type": "execute_result"
    }
   ],
   "source": [
    "df.DailyChargebackAvgAmt.unique()"
   ]
  },
  {
   "cell_type": "code",
   "execution_count": 22,
   "id": "0c194ab8",
   "metadata": {},
   "outputs": [
    {
     "data": {
      "text/html": [
       "<div>\n",
       "<style scoped>\n",
       "    .dataframe tbody tr th:only-of-type {\n",
       "        vertical-align: middle;\n",
       "    }\n",
       "\n",
       "    .dataframe tbody tr th {\n",
       "        vertical-align: top;\n",
       "    }\n",
       "\n",
       "    .dataframe thead th {\n",
       "        text-align: right;\n",
       "    }\n",
       "</style>\n",
       "<table border=\"1\" class=\"dataframe\">\n",
       "  <thead>\n",
       "    <tr style=\"text-align: right;\">\n",
       "      <th></th>\n",
       "      <th>counts</th>\n",
       "      <th>freqs</th>\n",
       "    </tr>\n",
       "    <tr>\n",
       "      <th>categories</th>\n",
       "      <th></th>\n",
       "      <th></th>\n",
       "    </tr>\n",
       "  </thead>\n",
       "  <tbody>\n",
       "    <tr>\n",
       "      <th>N</th>\n",
       "      <td>2627</td>\n",
       "      <td>0.854309</td>\n",
       "    </tr>\n",
       "    <tr>\n",
       "      <th>Y</th>\n",
       "      <td>448</td>\n",
       "      <td>0.145691</td>\n",
       "    </tr>\n",
       "  </tbody>\n",
       "</table>\n",
       "</div>"
      ],
      "text/plain": [
       "            counts     freqs\n",
       "categories                  \n",
       "N             2627  0.854309\n",
       "Y              448  0.145691"
      ]
     },
     "execution_count": 22,
     "metadata": {},
     "output_type": "execute_result"
    }
   ],
   "source": [
    "p.Categorical(df['isFradulent']).describe()"
   ]
  },
  {
   "cell_type": "code",
   "execution_count": 23,
   "id": "fe0f01d9",
   "metadata": {},
   "outputs": [
    {
     "data": {
      "text/html": [
       "<div>\n",
       "<style scoped>\n",
       "    .dataframe tbody tr th:only-of-type {\n",
       "        vertical-align: middle;\n",
       "    }\n",
       "\n",
       "    .dataframe tbody tr th {\n",
       "        vertical-align: top;\n",
       "    }\n",
       "\n",
       "    .dataframe thead th {\n",
       "        text-align: right;\n",
       "    }\n",
       "</style>\n",
       "<table border=\"1\" class=\"dataframe\">\n",
       "  <thead>\n",
       "    <tr style=\"text-align: right;\">\n",
       "      <th></th>\n",
       "      <th>counts</th>\n",
       "      <th>freqs</th>\n",
       "    </tr>\n",
       "    <tr>\n",
       "      <th>categories</th>\n",
       "      <th></th>\n",
       "      <th></th>\n",
       "    </tr>\n",
       "  </thead>\n",
       "  <tbody>\n",
       "    <tr>\n",
       "      <th>0.0</th>\n",
       "      <td>2857</td>\n",
       "      <td>0.929106</td>\n",
       "    </tr>\n",
       "    <tr>\n",
       "      <th>101.0</th>\n",
       "      <td>1</td>\n",
       "      <td>0.000325</td>\n",
       "    </tr>\n",
       "    <tr>\n",
       "      <th>102.0</th>\n",
       "      <td>1</td>\n",
       "      <td>0.000325</td>\n",
       "    </tr>\n",
       "    <tr>\n",
       "      <th>111.0</th>\n",
       "      <td>1</td>\n",
       "      <td>0.000325</td>\n",
       "    </tr>\n",
       "    <tr>\n",
       "      <th>115.0</th>\n",
       "      <td>1</td>\n",
       "      <td>0.000325</td>\n",
       "    </tr>\n",
       "    <tr>\n",
       "      <th>...</th>\n",
       "      <td>...</td>\n",
       "      <td>...</td>\n",
       "    </tr>\n",
       "    <tr>\n",
       "      <th>981.0</th>\n",
       "      <td>1</td>\n",
       "      <td>0.000325</td>\n",
       "    </tr>\n",
       "    <tr>\n",
       "      <th>989.0</th>\n",
       "      <td>1</td>\n",
       "      <td>0.000325</td>\n",
       "    </tr>\n",
       "    <tr>\n",
       "      <th>992.0</th>\n",
       "      <td>1</td>\n",
       "      <td>0.000325</td>\n",
       "    </tr>\n",
       "    <tr>\n",
       "      <th>996.0</th>\n",
       "      <td>1</td>\n",
       "      <td>0.000325</td>\n",
       "    </tr>\n",
       "    <tr>\n",
       "      <th>998.0</th>\n",
       "      <td>1</td>\n",
       "      <td>0.000325</td>\n",
       "    </tr>\n",
       "  </tbody>\n",
       "</table>\n",
       "<p>146 rows × 2 columns</p>\n",
       "</div>"
      ],
      "text/plain": [
       "            counts     freqs\n",
       "categories                  \n",
       "0.0           2857  0.929106\n",
       "101.0            1  0.000325\n",
       "102.0            1  0.000325\n",
       "111.0            1  0.000325\n",
       "115.0            1  0.000325\n",
       "...            ...       ...\n",
       "981.0            1  0.000325\n",
       "989.0            1  0.000325\n",
       "992.0            1  0.000325\n",
       "996.0            1  0.000325\n",
       "998.0            1  0.000325\n",
       "\n",
       "[146 rows x 2 columns]"
      ]
     },
     "execution_count": 23,
     "metadata": {},
     "output_type": "execute_result"
    }
   ],
   "source": [
    "p.Categorical(df['Six_MonthAvgChbkAmt']).describe()"
   ]
  },
  {
   "cell_type": "code",
   "execution_count": 24,
   "id": "16c7a6b0",
   "metadata": {},
   "outputs": [
    {
     "data": {
      "text/html": [
       "<div>\n",
       "<style scoped>\n",
       "    .dataframe tbody tr th:only-of-type {\n",
       "        vertical-align: middle;\n",
       "    }\n",
       "\n",
       "    .dataframe tbody tr th {\n",
       "        vertical-align: top;\n",
       "    }\n",
       "\n",
       "    .dataframe thead th {\n",
       "        text-align: right;\n",
       "    }\n",
       "</style>\n",
       "<table border=\"1\" class=\"dataframe\">\n",
       "  <thead>\n",
       "    <tr style=\"text-align: right;\">\n",
       "      <th></th>\n",
       "      <th>counts</th>\n",
       "      <th>freqs</th>\n",
       "    </tr>\n",
       "    <tr>\n",
       "      <th>categories</th>\n",
       "      <th></th>\n",
       "      <th></th>\n",
       "    </tr>\n",
       "  </thead>\n",
       "  <tbody>\n",
       "    <tr>\n",
       "      <th>4.011526884</th>\n",
       "      <td>1</td>\n",
       "      <td>0.000325</td>\n",
       "    </tr>\n",
       "    <tr>\n",
       "      <th>4.356148418</th>\n",
       "      <td>1</td>\n",
       "      <td>0.000325</td>\n",
       "    </tr>\n",
       "    <tr>\n",
       "      <th>5.704093201</th>\n",
       "      <td>1</td>\n",
       "      <td>0.000325</td>\n",
       "    </tr>\n",
       "    <tr>\n",
       "      <th>5.902675552</th>\n",
       "      <td>1</td>\n",
       "      <td>0.000325</td>\n",
       "    </tr>\n",
       "    <tr>\n",
       "      <th>6.309560414</th>\n",
       "      <td>1</td>\n",
       "      <td>0.000325</td>\n",
       "    </tr>\n",
       "    <tr>\n",
       "      <th>...</th>\n",
       "      <td>...</td>\n",
       "      <td>...</td>\n",
       "    </tr>\n",
       "    <tr>\n",
       "      <th>999.1947062</th>\n",
       "      <td>1</td>\n",
       "      <td>0.000325</td>\n",
       "    </tr>\n",
       "    <tr>\n",
       "      <th>1000.0</th>\n",
       "      <td>10</td>\n",
       "      <td>0.003252</td>\n",
       "    </tr>\n",
       "    <tr>\n",
       "      <th>1200.0</th>\n",
       "      <td>2</td>\n",
       "      <td>0.000650</td>\n",
       "    </tr>\n",
       "    <tr>\n",
       "      <th>1500.0</th>\n",
       "      <td>2</td>\n",
       "      <td>0.000650</td>\n",
       "    </tr>\n",
       "    <tr>\n",
       "      <th>2000.0</th>\n",
       "      <td>4</td>\n",
       "      <td>0.001301</td>\n",
       "    </tr>\n",
       "  </tbody>\n",
       "</table>\n",
       "<p>3016 rows × 2 columns</p>\n",
       "</div>"
      ],
      "text/plain": [
       "             counts     freqs\n",
       "categories                   \n",
       "4.011526884       1  0.000325\n",
       "4.356148418       1  0.000325\n",
       "5.704093201       1  0.000325\n",
       "5.902675552       1  0.000325\n",
       "6.309560414       1  0.000325\n",
       "...             ...       ...\n",
       "999.1947062       1  0.000325\n",
       "1000.0           10  0.003252\n",
       "1200.0            2  0.000650\n",
       "1500.0            2  0.000650\n",
       "2000.0            4  0.001301\n",
       "\n",
       "[3016 rows x 2 columns]"
      ]
     },
     "execution_count": 24,
     "metadata": {},
     "output_type": "execute_result"
    }
   ],
   "source": [
    "p.Categorical(df['AverageAmountTransactionDay']).describe()"
   ]
  },
  {
   "cell_type": "code",
   "execution_count": 25,
   "id": "9a637a93",
   "metadata": {},
   "outputs": [
    {
     "data": {
      "text/plain": [
       "Index(['AverageAmountTransactionDay', 'TransactionAmount', 'Is_declined',\n",
       "       'TotalNumberOfDeclinesDay', 'isForeignTransaction', 'isHighRiskCountry',\n",
       "       'DailyChargebackAvgAmt', 'Six_MonthAvgChbkAmt', 'Six_MonthChbkFreq',\n",
       "       'isFradulent'],\n",
       "      dtype='object')"
      ]
     },
     "execution_count": 25,
     "metadata": {},
     "output_type": "execute_result"
    }
   ],
   "source": [
    "df.columns"
   ]
  },
  {
   "cell_type": "code",
   "execution_count": 26,
   "id": "cfbf146d",
   "metadata": {},
   "outputs": [
    {
     "data": {
      "text/plain": [
       "Six_MonthAvgChbkAmt\n",
       "0.0      2857\n",
       "585.0      59\n",
       "797.0       3\n",
       "728.0       3\n",
       "758.0       2\n",
       "         ... \n",
       "883.0       1\n",
       "441.0       1\n",
       "633.0       1\n",
       "996.0       1\n",
       "170.0       1\n",
       "Name: count, Length: 146, dtype: int64"
      ]
     },
     "execution_count": 26,
     "metadata": {},
     "output_type": "execute_result"
    }
   ],
   "source": [
    "df['Six_MonthAvgChbkAmt'].value_counts()"
   ]
  },
  {
   "cell_type": "code",
   "execution_count": 27,
   "id": "e7b17662",
   "metadata": {},
   "outputs": [],
   "source": [
    "from sklearn.preprocessing import LabelEncoder\n",
    "var_mod = ['AverageAmountTransactionDay', 'TransactionAmount', 'Is_declined',\n",
    "       'TotalNumberOfDeclinesDay', 'isForeignTransaction', 'isHighRiskCountry',\n",
    "       'DailyChargebackAvgAmt', 'Six_MonthAvgChbkAmt', 'Six_MonthChbkFreq',\n",
    "       'isFradulent']\n",
    "le = LabelEncoder()\n",
    "for i in var_mod:\n",
    "    df[i] = le.fit_transform(df[i]).astype(int)"
   ]
  },
  {
   "cell_type": "code",
   "execution_count": 28,
   "id": "d816ba5c",
   "metadata": {},
   "outputs": [
    {
     "data": {
      "text/plain": [
       "array([1, 0])"
      ]
     },
     "execution_count": 28,
     "metadata": {},
     "output_type": "execute_result"
    }
   ],
   "source": [
    "df.isFradulent.unique()"
   ]
  },
  {
   "cell_type": "code",
   "execution_count": 29,
   "id": "c0cb2e29",
   "metadata": {},
   "outputs": [
    {
     "data": {
      "text/plain": [
       "array([0, 1])"
      ]
     },
     "execution_count": 29,
     "metadata": {},
     "output_type": "execute_result"
    }
   ],
   "source": [
    "df.Is_declined.unique()"
   ]
  },
  {
   "cell_type": "code",
   "execution_count": 30,
   "id": "4ab60b88",
   "metadata": {},
   "outputs": [
    {
     "data": {
      "text/plain": [
       "array([1, 0])"
      ]
     },
     "execution_count": 30,
     "metadata": {},
     "output_type": "execute_result"
    }
   ],
   "source": [
    "df.isForeignTransaction.unique()"
   ]
  },
  {
   "cell_type": "code",
   "execution_count": 31,
   "id": "9c2748bb",
   "metadata": {},
   "outputs": [
    {
     "data": {
      "text/plain": [
       "array([1, 0])"
      ]
     },
     "execution_count": 31,
     "metadata": {},
     "output_type": "execute_result"
    }
   ],
   "source": [
    "df.isHighRiskCountry.unique()"
   ]
  },
  {
   "cell_type": "code",
   "execution_count": 32,
   "id": "75c3a0e5",
   "metadata": {},
   "outputs": [
    {
     "data": {
      "text/html": [
       "<div>\n",
       "<style scoped>\n",
       "    .dataframe tbody tr th:only-of-type {\n",
       "        vertical-align: middle;\n",
       "    }\n",
       "\n",
       "    .dataframe tbody tr th {\n",
       "        vertical-align: top;\n",
       "    }\n",
       "\n",
       "    .dataframe thead th {\n",
       "        text-align: right;\n",
       "    }\n",
       "</style>\n",
       "<table border=\"1\" class=\"dataframe\">\n",
       "  <thead>\n",
       "    <tr style=\"text-align: right;\">\n",
       "      <th></th>\n",
       "      <th>AverageAmountTransactionDay</th>\n",
       "      <th>TransactionAmount</th>\n",
       "      <th>Is_declined</th>\n",
       "      <th>TotalNumberOfDeclinesDay</th>\n",
       "      <th>isForeignTransaction</th>\n",
       "      <th>isHighRiskCountry</th>\n",
       "      <th>DailyChargebackAvgAmt</th>\n",
       "      <th>Six_MonthAvgChbkAmt</th>\n",
       "      <th>Six_MonthChbkFreq</th>\n",
       "      <th>isFradulent</th>\n",
       "    </tr>\n",
       "  </thead>\n",
       "  <tbody>\n",
       "    <tr>\n",
       "      <th>AverageAmountTransactionDay</th>\n",
       "      <td>1.000000</td>\n",
       "      <td>0.608271</td>\n",
       "      <td>0.047952</td>\n",
       "      <td>-0.007345</td>\n",
       "      <td>0.037603</td>\n",
       "      <td>0.010469</td>\n",
       "      <td>0.024944</td>\n",
       "      <td>0.039357</td>\n",
       "      <td>0.047975</td>\n",
       "      <td>0.012969</td>\n",
       "    </tr>\n",
       "    <tr>\n",
       "      <th>TransactionAmount</th>\n",
       "      <td>0.608271</td>\n",
       "      <td>1.000000</td>\n",
       "      <td>0.130207</td>\n",
       "      <td>0.211318</td>\n",
       "      <td>0.202993</td>\n",
       "      <td>0.243742</td>\n",
       "      <td>0.150085</td>\n",
       "      <td>0.175933</td>\n",
       "      <td>0.200643</td>\n",
       "      <td>0.398265</td>\n",
       "    </tr>\n",
       "    <tr>\n",
       "      <th>Is_declined</th>\n",
       "      <td>0.047952</td>\n",
       "      <td>0.130207</td>\n",
       "      <td>1.000000</td>\n",
       "      <td>0.086067</td>\n",
       "      <td>0.079761</td>\n",
       "      <td>0.127586</td>\n",
       "      <td>0.268632</td>\n",
       "      <td>0.397625</td>\n",
       "      <td>0.499365</td>\n",
       "      <td>0.271282</td>\n",
       "    </tr>\n",
       "    <tr>\n",
       "      <th>TotalNumberOfDeclinesDay</th>\n",
       "      <td>-0.007345</td>\n",
       "      <td>0.211318</td>\n",
       "      <td>0.086067</td>\n",
       "      <td>1.000000</td>\n",
       "      <td>0.237198</td>\n",
       "      <td>0.302400</td>\n",
       "      <td>0.096903</td>\n",
       "      <td>0.081698</td>\n",
       "      <td>0.088722</td>\n",
       "      <td>0.536746</td>\n",
       "    </tr>\n",
       "    <tr>\n",
       "      <th>isForeignTransaction</th>\n",
       "      <td>0.037603</td>\n",
       "      <td>0.202993</td>\n",
       "      <td>0.079761</td>\n",
       "      <td>0.237198</td>\n",
       "      <td>1.000000</td>\n",
       "      <td>0.489572</td>\n",
       "      <td>0.040358</td>\n",
       "      <td>0.059970</td>\n",
       "      <td>0.077083</td>\n",
       "      <td>0.478113</td>\n",
       "    </tr>\n",
       "    <tr>\n",
       "      <th>isHighRiskCountry</th>\n",
       "      <td>0.010469</td>\n",
       "      <td>0.243742</td>\n",
       "      <td>0.127586</td>\n",
       "      <td>0.302400</td>\n",
       "      <td>0.489572</td>\n",
       "      <td>1.000000</td>\n",
       "      <td>0.056636</td>\n",
       "      <td>0.070889</td>\n",
       "      <td>0.098241</td>\n",
       "      <td>0.639792</td>\n",
       "    </tr>\n",
       "    <tr>\n",
       "      <th>DailyChargebackAvgAmt</th>\n",
       "      <td>0.024944</td>\n",
       "      <td>0.150085</td>\n",
       "      <td>0.268632</td>\n",
       "      <td>0.096903</td>\n",
       "      <td>0.040358</td>\n",
       "      <td>0.056636</td>\n",
       "      <td>1.000000</td>\n",
       "      <td>0.903812</td>\n",
       "      <td>0.763734</td>\n",
       "      <td>0.340313</td>\n",
       "    </tr>\n",
       "    <tr>\n",
       "      <th>Six_MonthAvgChbkAmt</th>\n",
       "      <td>0.039357</td>\n",
       "      <td>0.175933</td>\n",
       "      <td>0.397625</td>\n",
       "      <td>0.081698</td>\n",
       "      <td>0.059970</td>\n",
       "      <td>0.070889</td>\n",
       "      <td>0.903812</td>\n",
       "      <td>1.000000</td>\n",
       "      <td>0.823442</td>\n",
       "      <td>0.366097</td>\n",
       "    </tr>\n",
       "    <tr>\n",
       "      <th>Six_MonthChbkFreq</th>\n",
       "      <td>0.047975</td>\n",
       "      <td>0.200643</td>\n",
       "      <td>0.499365</td>\n",
       "      <td>0.088722</td>\n",
       "      <td>0.077083</td>\n",
       "      <td>0.098241</td>\n",
       "      <td>0.763734</td>\n",
       "      <td>0.823442</td>\n",
       "      <td>1.000000</td>\n",
       "      <td>0.443824</td>\n",
       "    </tr>\n",
       "    <tr>\n",
       "      <th>isFradulent</th>\n",
       "      <td>0.012969</td>\n",
       "      <td>0.398265</td>\n",
       "      <td>0.271282</td>\n",
       "      <td>0.536746</td>\n",
       "      <td>0.478113</td>\n",
       "      <td>0.639792</td>\n",
       "      <td>0.340313</td>\n",
       "      <td>0.366097</td>\n",
       "      <td>0.443824</td>\n",
       "      <td>1.000000</td>\n",
       "    </tr>\n",
       "  </tbody>\n",
       "</table>\n",
       "</div>"
      ],
      "text/plain": [
       "                             AverageAmountTransactionDay  TransactionAmount  \\\n",
       "AverageAmountTransactionDay                     1.000000           0.608271   \n",
       "TransactionAmount                               0.608271           1.000000   \n",
       "Is_declined                                     0.047952           0.130207   \n",
       "TotalNumberOfDeclinesDay                       -0.007345           0.211318   \n",
       "isForeignTransaction                            0.037603           0.202993   \n",
       "isHighRiskCountry                               0.010469           0.243742   \n",
       "DailyChargebackAvgAmt                           0.024944           0.150085   \n",
       "Six_MonthAvgChbkAmt                             0.039357           0.175933   \n",
       "Six_MonthChbkFreq                               0.047975           0.200643   \n",
       "isFradulent                                     0.012969           0.398265   \n",
       "\n",
       "                             Is_declined  TotalNumberOfDeclinesDay  \\\n",
       "AverageAmountTransactionDay     0.047952                 -0.007345   \n",
       "TransactionAmount               0.130207                  0.211318   \n",
       "Is_declined                     1.000000                  0.086067   \n",
       "TotalNumberOfDeclinesDay        0.086067                  1.000000   \n",
       "isForeignTransaction            0.079761                  0.237198   \n",
       "isHighRiskCountry               0.127586                  0.302400   \n",
       "DailyChargebackAvgAmt           0.268632                  0.096903   \n",
       "Six_MonthAvgChbkAmt             0.397625                  0.081698   \n",
       "Six_MonthChbkFreq               0.499365                  0.088722   \n",
       "isFradulent                     0.271282                  0.536746   \n",
       "\n",
       "                             isForeignTransaction  isHighRiskCountry  \\\n",
       "AverageAmountTransactionDay              0.037603           0.010469   \n",
       "TransactionAmount                        0.202993           0.243742   \n",
       "Is_declined                              0.079761           0.127586   \n",
       "TotalNumberOfDeclinesDay                 0.237198           0.302400   \n",
       "isForeignTransaction                     1.000000           0.489572   \n",
       "isHighRiskCountry                        0.489572           1.000000   \n",
       "DailyChargebackAvgAmt                    0.040358           0.056636   \n",
       "Six_MonthAvgChbkAmt                      0.059970           0.070889   \n",
       "Six_MonthChbkFreq                        0.077083           0.098241   \n",
       "isFradulent                              0.478113           0.639792   \n",
       "\n",
       "                             DailyChargebackAvgAmt  Six_MonthAvgChbkAmt  \\\n",
       "AverageAmountTransactionDay               0.024944             0.039357   \n",
       "TransactionAmount                         0.150085             0.175933   \n",
       "Is_declined                               0.268632             0.397625   \n",
       "TotalNumberOfDeclinesDay                  0.096903             0.081698   \n",
       "isForeignTransaction                      0.040358             0.059970   \n",
       "isHighRiskCountry                         0.056636             0.070889   \n",
       "DailyChargebackAvgAmt                     1.000000             0.903812   \n",
       "Six_MonthAvgChbkAmt                       0.903812             1.000000   \n",
       "Six_MonthChbkFreq                         0.763734             0.823442   \n",
       "isFradulent                               0.340313             0.366097   \n",
       "\n",
       "                             Six_MonthChbkFreq  isFradulent  \n",
       "AverageAmountTransactionDay           0.047975     0.012969  \n",
       "TransactionAmount                     0.200643     0.398265  \n",
       "Is_declined                           0.499365     0.271282  \n",
       "TotalNumberOfDeclinesDay              0.088722     0.536746  \n",
       "isForeignTransaction                  0.077083     0.478113  \n",
       "isHighRiskCountry                     0.098241     0.639792  \n",
       "DailyChargebackAvgAmt                 0.763734     0.340313  \n",
       "Six_MonthAvgChbkAmt                   0.823442     0.366097  \n",
       "Six_MonthChbkFreq                     1.000000     0.443824  \n",
       "isFradulent                           0.443824     1.000000  "
      ]
     },
     "execution_count": 32,
     "metadata": {},
     "output_type": "execute_result"
    }
   ],
   "source": [
    "df.corr()"
   ]
  },
  {
   "cell_type": "raw",
   "id": "ba1bfc0a",
   "metadata": {},
   "source": [
    "After Pre-processing"
   ]
  },
  {
   "cell_type": "code",
   "execution_count": 33,
   "id": "12eaf27c",
   "metadata": {},
   "outputs": [
    {
     "data": {
      "text/html": [
       "<div>\n",
       "<style scoped>\n",
       "    .dataframe tbody tr th:only-of-type {\n",
       "        vertical-align: middle;\n",
       "    }\n",
       "\n",
       "    .dataframe tbody tr th {\n",
       "        vertical-align: top;\n",
       "    }\n",
       "\n",
       "    .dataframe thead th {\n",
       "        text-align: right;\n",
       "    }\n",
       "</style>\n",
       "<table border=\"1\" class=\"dataframe\">\n",
       "  <thead>\n",
       "    <tr style=\"text-align: right;\">\n",
       "      <th></th>\n",
       "      <th>AverageAmountTransactionDay</th>\n",
       "      <th>TransactionAmount</th>\n",
       "      <th>Is_declined</th>\n",
       "      <th>TotalNumberOfDeclinesDay</th>\n",
       "      <th>isForeignTransaction</th>\n",
       "      <th>isHighRiskCountry</th>\n",
       "      <th>DailyChargebackAvgAmt</th>\n",
       "      <th>Six_MonthAvgChbkAmt</th>\n",
       "      <th>Six_MonthChbkFreq</th>\n",
       "      <th>isFradulent</th>\n",
       "    </tr>\n",
       "  </thead>\n",
       "  <tbody>\n",
       "    <tr>\n",
       "      <th>0</th>\n",
       "      <td>248</td>\n",
       "      <td>813</td>\n",
       "      <td>0</td>\n",
       "      <td>5</td>\n",
       "      <td>1</td>\n",
       "      <td>1</td>\n",
       "      <td>0</td>\n",
       "      <td>0</td>\n",
       "      <td>0</td>\n",
       "      <td>1</td>\n",
       "    </tr>\n",
       "    <tr>\n",
       "      <th>1</th>\n",
       "      <td>248</td>\n",
       "      <td>1056</td>\n",
       "      <td>0</td>\n",
       "      <td>5</td>\n",
       "      <td>1</td>\n",
       "      <td>1</td>\n",
       "      <td>0</td>\n",
       "      <td>0</td>\n",
       "      <td>0</td>\n",
       "      <td>1</td>\n",
       "    </tr>\n",
       "    <tr>\n",
       "      <th>2</th>\n",
       "      <td>498</td>\n",
       "      <td>1146</td>\n",
       "      <td>1</td>\n",
       "      <td>5</td>\n",
       "      <td>0</td>\n",
       "      <td>0</td>\n",
       "      <td>0</td>\n",
       "      <td>0</td>\n",
       "      <td>0</td>\n",
       "      <td>1</td>\n",
       "    </tr>\n",
       "    <tr>\n",
       "      <th>3</th>\n",
       "      <td>498</td>\n",
       "      <td>1178</td>\n",
       "      <td>1</td>\n",
       "      <td>8</td>\n",
       "      <td>0</td>\n",
       "      <td>0</td>\n",
       "      <td>0</td>\n",
       "      <td>0</td>\n",
       "      <td>0</td>\n",
       "      <td>1</td>\n",
       "    </tr>\n",
       "    <tr>\n",
       "      <th>4</th>\n",
       "      <td>1490</td>\n",
       "      <td>2777</td>\n",
       "      <td>0</td>\n",
       "      <td>0</td>\n",
       "      <td>1</td>\n",
       "      <td>1</td>\n",
       "      <td>58</td>\n",
       "      <td>92</td>\n",
       "      <td>6</td>\n",
       "      <td>1</td>\n",
       "    </tr>\n",
       "  </tbody>\n",
       "</table>\n",
       "</div>"
      ],
      "text/plain": [
       "   AverageAmountTransactionDay  TransactionAmount  Is_declined  \\\n",
       "0                          248                813            0   \n",
       "1                          248               1056            0   \n",
       "2                          498               1146            1   \n",
       "3                          498               1178            1   \n",
       "4                         1490               2777            0   \n",
       "\n",
       "   TotalNumberOfDeclinesDay  isForeignTransaction  isHighRiskCountry  \\\n",
       "0                         5                     1                  1   \n",
       "1                         5                     1                  1   \n",
       "2                         5                     0                  0   \n",
       "3                         8                     0                  0   \n",
       "4                         0                     1                  1   \n",
       "\n",
       "   DailyChargebackAvgAmt  Six_MonthAvgChbkAmt  Six_MonthChbkFreq  isFradulent  \n",
       "0                      0                    0                  0            1  \n",
       "1                      0                    0                  0            1  \n",
       "2                      0                    0                  0            1  \n",
       "3                      0                    0                  0            1  \n",
       "4                     58                   92                  6            1  "
      ]
     },
     "execution_count": 33,
     "metadata": {},
     "output_type": "execute_result"
    }
   ],
   "source": [
    "df.head()"
   ]
  },
  {
   "cell_type": "code",
   "execution_count": 34,
   "id": "a9750ad5",
   "metadata": {},
   "outputs": [
    {
     "data": {
      "text/plain": [
       "Index(['AverageAmountTransactionDay', 'TransactionAmount', 'Is_declined',\n",
       "       'TotalNumberOfDeclinesDay', 'isForeignTransaction', 'isHighRiskCountry',\n",
       "       'DailyChargebackAvgAmt', 'Six_MonthAvgChbkAmt', 'Six_MonthChbkFreq',\n",
       "       'isFradulent'],\n",
       "      dtype='object')"
      ]
     },
     "execution_count": 34,
     "metadata": {},
     "output_type": "execute_result"
    }
   ],
   "source": [
    "df.columns"
   ]
  },
  {
   "cell_type": "code",
   "execution_count": 35,
   "id": "de780eb1",
   "metadata": {},
   "outputs": [
    {
     "data": {
      "text/html": [
       "<div>\n",
       "<style scoped>\n",
       "    .dataframe tbody tr th:only-of-type {\n",
       "        vertical-align: middle;\n",
       "    }\n",
       "\n",
       "    .dataframe tbody tr th {\n",
       "        vertical-align: top;\n",
       "    }\n",
       "\n",
       "    .dataframe thead th {\n",
       "        text-align: right;\n",
       "    }\n",
       "</style>\n",
       "<table border=\"1\" class=\"dataframe\">\n",
       "  <thead>\n",
       "    <tr style=\"text-align: right;\">\n",
       "      <th></th>\n",
       "      <th>AverageAmountTransactionDay</th>\n",
       "      <th>TransactionAmount</th>\n",
       "      <th>Is_declined</th>\n",
       "      <th>TotalNumberOfDeclinesDay</th>\n",
       "      <th>isForeignTransaction</th>\n",
       "      <th>isHighRiskCountry</th>\n",
       "      <th>DailyChargebackAvgAmt</th>\n",
       "      <th>Six_MonthAvgChbkAmt</th>\n",
       "      <th>Six_MonthChbkFreq</th>\n",
       "      <th>isFradulent</th>\n",
       "    </tr>\n",
       "  </thead>\n",
       "  <tbody>\n",
       "    <tr>\n",
       "      <th>0</th>\n",
       "      <td>248</td>\n",
       "      <td>813</td>\n",
       "      <td>0</td>\n",
       "      <td>5</td>\n",
       "      <td>1</td>\n",
       "      <td>1</td>\n",
       "      <td>0</td>\n",
       "      <td>0</td>\n",
       "      <td>0</td>\n",
       "      <td>1</td>\n",
       "    </tr>\n",
       "    <tr>\n",
       "      <th>1</th>\n",
       "      <td>248</td>\n",
       "      <td>1056</td>\n",
       "      <td>0</td>\n",
       "      <td>5</td>\n",
       "      <td>1</td>\n",
       "      <td>1</td>\n",
       "      <td>0</td>\n",
       "      <td>0</td>\n",
       "      <td>0</td>\n",
       "      <td>1</td>\n",
       "    </tr>\n",
       "    <tr>\n",
       "      <th>2</th>\n",
       "      <td>498</td>\n",
       "      <td>1146</td>\n",
       "      <td>1</td>\n",
       "      <td>5</td>\n",
       "      <td>0</td>\n",
       "      <td>0</td>\n",
       "      <td>0</td>\n",
       "      <td>0</td>\n",
       "      <td>0</td>\n",
       "      <td>1</td>\n",
       "    </tr>\n",
       "    <tr>\n",
       "      <th>3</th>\n",
       "      <td>498</td>\n",
       "      <td>1178</td>\n",
       "      <td>1</td>\n",
       "      <td>8</td>\n",
       "      <td>0</td>\n",
       "      <td>0</td>\n",
       "      <td>0</td>\n",
       "      <td>0</td>\n",
       "      <td>0</td>\n",
       "      <td>1</td>\n",
       "    </tr>\n",
       "    <tr>\n",
       "      <th>4</th>\n",
       "      <td>1490</td>\n",
       "      <td>2777</td>\n",
       "      <td>0</td>\n",
       "      <td>0</td>\n",
       "      <td>1</td>\n",
       "      <td>1</td>\n",
       "      <td>58</td>\n",
       "      <td>92</td>\n",
       "      <td>6</td>\n",
       "      <td>1</td>\n",
       "    </tr>\n",
       "    <tr>\n",
       "      <th>5</th>\n",
       "      <td>1490</td>\n",
       "      <td>2801</td>\n",
       "      <td>0</td>\n",
       "      <td>0</td>\n",
       "      <td>1</td>\n",
       "      <td>1</td>\n",
       "      <td>58</td>\n",
       "      <td>92</td>\n",
       "      <td>6</td>\n",
       "      <td>1</td>\n",
       "    </tr>\n",
       "    <tr>\n",
       "      <th>6</th>\n",
       "      <td>730</td>\n",
       "      <td>1946</td>\n",
       "      <td>0</td>\n",
       "      <td>0</td>\n",
       "      <td>0</td>\n",
       "      <td>0</td>\n",
       "      <td>90</td>\n",
       "      <td>40</td>\n",
       "      <td>7</td>\n",
       "      <td>1</td>\n",
       "    </tr>\n",
       "    <tr>\n",
       "      <th>7</th>\n",
       "      <td>498</td>\n",
       "      <td>1931</td>\n",
       "      <td>1</td>\n",
       "      <td>10</td>\n",
       "      <td>0</td>\n",
       "      <td>0</td>\n",
       "      <td>0</td>\n",
       "      <td>0</td>\n",
       "      <td>0</td>\n",
       "      <td>1</td>\n",
       "    </tr>\n",
       "    <tr>\n",
       "      <th>8</th>\n",
       "      <td>498</td>\n",
       "      <td>1362</td>\n",
       "      <td>1</td>\n",
       "      <td>10</td>\n",
       "      <td>0</td>\n",
       "      <td>0</td>\n",
       "      <td>0</td>\n",
       "      <td>0</td>\n",
       "      <td>0</td>\n",
       "      <td>1</td>\n",
       "    </tr>\n",
       "    <tr>\n",
       "      <th>9</th>\n",
       "      <td>498</td>\n",
       "      <td>1490</td>\n",
       "      <td>1</td>\n",
       "      <td>10</td>\n",
       "      <td>0</td>\n",
       "      <td>0</td>\n",
       "      <td>0</td>\n",
       "      <td>0</td>\n",
       "      <td>0</td>\n",
       "      <td>1</td>\n",
       "    </tr>\n",
       "  </tbody>\n",
       "</table>\n",
       "</div>"
      ],
      "text/plain": [
       "   AverageAmountTransactionDay  TransactionAmount  Is_declined  \\\n",
       "0                          248                813            0   \n",
       "1                          248               1056            0   \n",
       "2                          498               1146            1   \n",
       "3                          498               1178            1   \n",
       "4                         1490               2777            0   \n",
       "5                         1490               2801            0   \n",
       "6                          730               1946            0   \n",
       "7                          498               1931            1   \n",
       "8                          498               1362            1   \n",
       "9                          498               1490            1   \n",
       "\n",
       "   TotalNumberOfDeclinesDay  isForeignTransaction  isHighRiskCountry  \\\n",
       "0                         5                     1                  1   \n",
       "1                         5                     1                  1   \n",
       "2                         5                     0                  0   \n",
       "3                         8                     0                  0   \n",
       "4                         0                     1                  1   \n",
       "5                         0                     1                  1   \n",
       "6                         0                     0                  0   \n",
       "7                        10                     0                  0   \n",
       "8                        10                     0                  0   \n",
       "9                        10                     0                  0   \n",
       "\n",
       "   DailyChargebackAvgAmt  Six_MonthAvgChbkAmt  Six_MonthChbkFreq  isFradulent  \n",
       "0                      0                    0                  0            1  \n",
       "1                      0                    0                  0            1  \n",
       "2                      0                    0                  0            1  \n",
       "3                      0                    0                  0            1  \n",
       "4                     58                   92                  6            1  \n",
       "5                     58                   92                  6            1  \n",
       "6                     90                   40                  7            1  \n",
       "7                      0                    0                  0            1  \n",
       "8                      0                    0                  0            1  \n",
       "9                      0                    0                  0            1  "
      ]
     },
     "execution_count": 35,
     "metadata": {},
     "output_type": "execute_result"
    }
   ],
   "source": [
    "df.head(10)"
   ]
  },
  {
   "cell_type": "code",
   "execution_count": 36,
   "id": "5e0aab0d",
   "metadata": {},
   "outputs": [
    {
     "data": {
      "text/plain": [
       "AverageAmountTransactionDay    0\n",
       "TransactionAmount              0\n",
       "Is_declined                    0\n",
       "TotalNumberOfDeclinesDay       0\n",
       "isForeignTransaction           0\n",
       "isHighRiskCountry              0\n",
       "DailyChargebackAvgAmt          0\n",
       "Six_MonthAvgChbkAmt            0\n",
       "Six_MonthChbkFreq              0\n",
       "isFradulent                    0\n",
       "dtype: int64"
      ]
     },
     "execution_count": 36,
     "metadata": {},
     "output_type": "execute_result"
    }
   ],
   "source": [
    "df.isnull().sum()"
   ]
  },
  {
   "cell_type": "code",
   "execution_count": 37,
   "id": "3bb64329",
   "metadata": {},
   "outputs": [
    {
     "data": {
      "text/html": [
       "<div>\n",
       "<style scoped>\n",
       "    .dataframe tbody tr th:only-of-type {\n",
       "        vertical-align: middle;\n",
       "    }\n",
       "\n",
       "    .dataframe tbody tr th {\n",
       "        vertical-align: top;\n",
       "    }\n",
       "\n",
       "    .dataframe thead th {\n",
       "        text-align: right;\n",
       "    }\n",
       "</style>\n",
       "<table border=\"1\" class=\"dataframe\">\n",
       "  <thead>\n",
       "    <tr style=\"text-align: right;\">\n",
       "      <th></th>\n",
       "      <th>AverageAmountTransactionDay</th>\n",
       "      <th>TransactionAmount</th>\n",
       "      <th>Is_declined</th>\n",
       "      <th>TotalNumberOfDeclinesDay</th>\n",
       "      <th>isForeignTransaction</th>\n",
       "      <th>isHighRiskCountry</th>\n",
       "      <th>DailyChargebackAvgAmt</th>\n",
       "      <th>Six_MonthAvgChbkAmt</th>\n",
       "      <th>Six_MonthChbkFreq</th>\n",
       "      <th>isFradulent</th>\n",
       "    </tr>\n",
       "  </thead>\n",
       "  <tbody>\n",
       "    <tr>\n",
       "      <th>3065</th>\n",
       "      <td>651</td>\n",
       "      <td>624</td>\n",
       "      <td>0</td>\n",
       "      <td>0</td>\n",
       "      <td>0</td>\n",
       "      <td>0</td>\n",
       "      <td>0</td>\n",
       "      <td>0</td>\n",
       "      <td>0</td>\n",
       "      <td>0</td>\n",
       "    </tr>\n",
       "    <tr>\n",
       "      <th>3066</th>\n",
       "      <td>778</td>\n",
       "      <td>1541</td>\n",
       "      <td>0</td>\n",
       "      <td>2</td>\n",
       "      <td>0</td>\n",
       "      <td>0</td>\n",
       "      <td>0</td>\n",
       "      <td>0</td>\n",
       "      <td>0</td>\n",
       "      <td>0</td>\n",
       "    </tr>\n",
       "    <tr>\n",
       "      <th>3067</th>\n",
       "      <td>385</td>\n",
       "      <td>605</td>\n",
       "      <td>0</td>\n",
       "      <td>0</td>\n",
       "      <td>0</td>\n",
       "      <td>0</td>\n",
       "      <td>0</td>\n",
       "      <td>0</td>\n",
       "      <td>0</td>\n",
       "      <td>0</td>\n",
       "    </tr>\n",
       "    <tr>\n",
       "      <th>3068</th>\n",
       "      <td>2046</td>\n",
       "      <td>418</td>\n",
       "      <td>0</td>\n",
       "      <td>0</td>\n",
       "      <td>0</td>\n",
       "      <td>0</td>\n",
       "      <td>0</td>\n",
       "      <td>0</td>\n",
       "      <td>0</td>\n",
       "      <td>0</td>\n",
       "    </tr>\n",
       "    <tr>\n",
       "      <th>3069</th>\n",
       "      <td>3012</td>\n",
       "      <td>2747</td>\n",
       "      <td>1</td>\n",
       "      <td>0</td>\n",
       "      <td>1</td>\n",
       "      <td>0</td>\n",
       "      <td>50</td>\n",
       "      <td>78</td>\n",
       "      <td>7</td>\n",
       "      <td>0</td>\n",
       "    </tr>\n",
       "    <tr>\n",
       "      <th>3070</th>\n",
       "      <td>1490</td>\n",
       "      <td>1914</td>\n",
       "      <td>1</td>\n",
       "      <td>0</td>\n",
       "      <td>0</td>\n",
       "      <td>0</td>\n",
       "      <td>50</td>\n",
       "      <td>78</td>\n",
       "      <td>7</td>\n",
       "      <td>0</td>\n",
       "    </tr>\n",
       "    <tr>\n",
       "      <th>3071</th>\n",
       "      <td>2387</td>\n",
       "      <td>0</td>\n",
       "      <td>1</td>\n",
       "      <td>0</td>\n",
       "      <td>0</td>\n",
       "      <td>0</td>\n",
       "      <td>50</td>\n",
       "      <td>78</td>\n",
       "      <td>7</td>\n",
       "      <td>0</td>\n",
       "    </tr>\n",
       "    <tr>\n",
       "      <th>3072</th>\n",
       "      <td>2387</td>\n",
       "      <td>2583</td>\n",
       "      <td>1</td>\n",
       "      <td>0</td>\n",
       "      <td>0</td>\n",
       "      <td>0</td>\n",
       "      <td>50</td>\n",
       "      <td>78</td>\n",
       "      <td>7</td>\n",
       "      <td>0</td>\n",
       "    </tr>\n",
       "    <tr>\n",
       "      <th>3073</th>\n",
       "      <td>3014</td>\n",
       "      <td>2013</td>\n",
       "      <td>1</td>\n",
       "      <td>0</td>\n",
       "      <td>1</td>\n",
       "      <td>1</td>\n",
       "      <td>50</td>\n",
       "      <td>78</td>\n",
       "      <td>7</td>\n",
       "      <td>0</td>\n",
       "    </tr>\n",
       "    <tr>\n",
       "      <th>3074</th>\n",
       "      <td>3014</td>\n",
       "      <td>2881</td>\n",
       "      <td>1</td>\n",
       "      <td>0</td>\n",
       "      <td>1</td>\n",
       "      <td>1</td>\n",
       "      <td>50</td>\n",
       "      <td>78</td>\n",
       "      <td>7</td>\n",
       "      <td>0</td>\n",
       "    </tr>\n",
       "  </tbody>\n",
       "</table>\n",
       "</div>"
      ],
      "text/plain": [
       "      AverageAmountTransactionDay  TransactionAmount  Is_declined  \\\n",
       "3065                          651                624            0   \n",
       "3066                          778               1541            0   \n",
       "3067                          385                605            0   \n",
       "3068                         2046                418            0   \n",
       "3069                         3012               2747            1   \n",
       "3070                         1490               1914            1   \n",
       "3071                         2387                  0            1   \n",
       "3072                         2387               2583            1   \n",
       "3073                         3014               2013            1   \n",
       "3074                         3014               2881            1   \n",
       "\n",
       "      TotalNumberOfDeclinesDay  isForeignTransaction  isHighRiskCountry  \\\n",
       "3065                         0                     0                  0   \n",
       "3066                         2                     0                  0   \n",
       "3067                         0                     0                  0   \n",
       "3068                         0                     0                  0   \n",
       "3069                         0                     1                  0   \n",
       "3070                         0                     0                  0   \n",
       "3071                         0                     0                  0   \n",
       "3072                         0                     0                  0   \n",
       "3073                         0                     1                  1   \n",
       "3074                         0                     1                  1   \n",
       "\n",
       "      DailyChargebackAvgAmt  Six_MonthAvgChbkAmt  Six_MonthChbkFreq  \\\n",
       "3065                      0                    0                  0   \n",
       "3066                      0                    0                  0   \n",
       "3067                      0                    0                  0   \n",
       "3068                      0                    0                  0   \n",
       "3069                     50                   78                  7   \n",
       "3070                     50                   78                  7   \n",
       "3071                     50                   78                  7   \n",
       "3072                     50                   78                  7   \n",
       "3073                     50                   78                  7   \n",
       "3074                     50                   78                  7   \n",
       "\n",
       "      isFradulent  \n",
       "3065            0  \n",
       "3066            0  \n",
       "3067            0  \n",
       "3068            0  \n",
       "3069            0  \n",
       "3070            0  \n",
       "3071            0  \n",
       "3072            0  \n",
       "3073            0  \n",
       "3074            0  "
      ]
     },
     "execution_count": 37,
     "metadata": {},
     "output_type": "execute_result"
    }
   ],
   "source": [
    "df.tail(10)"
   ]
  },
  {
   "cell_type": "code",
   "execution_count": null,
   "id": "b155ed07",
   "metadata": {},
   "outputs": [],
   "source": []
  },
  {
   "cell_type": "code",
   "execution_count": null,
   "id": "9689df54",
   "metadata": {},
   "outputs": [],
   "source": []
  }
 ],
 "metadata": {
  "kernelspec": {
   "display_name": "Python 3 (ipykernel)",
   "language": "python",
   "name": "python3"
  },
  "language_info": {
   "codemirror_mode": {
    "name": "ipython",
    "version": 3
   },
   "file_extension": ".py",
   "mimetype": "text/x-python",
   "name": "python",
   "nbconvert_exporter": "python",
   "pygments_lexer": "ipython3",
   "version": "3.9.18"
  }
 },
 "nbformat": 4,
 "nbformat_minor": 5
}
